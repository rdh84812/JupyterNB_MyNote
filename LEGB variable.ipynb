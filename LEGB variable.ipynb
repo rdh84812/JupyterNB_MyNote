{
 "cells": [
  {
   "cell_type": "markdown",
   "metadata": {},
   "source": [
    "**LEGB Rule:**\n",
    "\n",
    "L: Local — Names assigned in any way within a function (def or lambda), and not declared global in that function.\n",
    "\n",
    "E: Enclosing function locals — Names in the local scope of any and all enclosing functions (def or lambda), from inner to outer.\n",
    "\n",
    "G: Global (module) — Names assigned at the top-level of a module file, or declared global in a def within the file.\n",
    "\n",
    "B: Built-in (Python) — Names preassigned in the built-in names module : open, range, SyntaxError,...\n",
    "\n",
    "**Python Compiler will trace the variable with the order of 'LEGB'**"
   ]
  },
  {
   "cell_type": "code",
   "execution_count": 3,
   "metadata": {},
   "outputs": [
    {
     "name": "stdout",
     "output_type": "stream",
     "text": [
      "Hello Local\n"
     ]
    }
   ],
   "source": [
    "# Global\n",
    "name = 'Global'\n",
    "\n",
    "def greet():\n",
    "    # Enclosing\n",
    "    name = 'Enclosing'\n",
    "    \n",
    "    def hello():\n",
    "        # Local\n",
    "        name = 'Local'\n",
    "        print('Hello ' + name)\n",
    "        \n",
    "    hello()\n",
    "    \n",
    "greet()"
   ]
  },
  {
   "cell_type": "markdown",
   "metadata": {},
   "source": [
    "## If we want to change the value of Global variable in the Function\n",
    "It may actually change the value of the global variable from the inside of the function"
   ]
  },
  {
   "cell_type": "code",
   "execution_count": 12,
   "metadata": {},
   "outputs": [
    {
     "name": "stdout",
     "output_type": "stream",
     "text": [
      "1, Hello Global\n",
      "2, Hello Enclosing\n",
      "3, Hello Local\n",
      "4, Hello Enclosing\n"
     ]
    }
   ],
   "source": [
    "# Global的值最後會被更換\n",
    "\n",
    "# Global\n",
    "name = 'Global'\n",
    "\n",
    "def greet():\n",
    "    global name\n",
    "    print('1, Hello ' + name)\n",
    "    \n",
    "    # Enclosing\n",
    "    name = 'Enclosing'\n",
    "    print('2, Hello ' + name)\n",
    "    \n",
    "    def hello():\n",
    "        # Local\n",
    "        name = 'Local'\n",
    "        print('3, Hello ' + name)\n",
    "        \n",
    "    hello()\n",
    "    \n",
    "greet()\n",
    "print('4, Hello ' + name)"
   ]
  }
 ],
 "metadata": {
  "kernelspec": {
   "display_name": "Python 3",
   "language": "python",
   "name": "python3"
  },
  "language_info": {
   "codemirror_mode": {
    "name": "ipython",
    "version": 3
   },
   "file_extension": ".py",
   "mimetype": "text/x-python",
   "name": "python",
   "nbconvert_exporter": "python",
   "pygments_lexer": "ipython3",
   "version": "3.6.4"
  }
 },
 "nbformat": 4,
 "nbformat_minor": 2
}
