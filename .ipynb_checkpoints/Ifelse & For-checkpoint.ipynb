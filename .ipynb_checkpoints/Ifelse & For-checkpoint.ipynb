{
 "cells": [
  {
   "cell_type": "markdown",
   "metadata": {},
   "source": [
    "# If elif else"
   ]
  },
  {
   "cell_type": "code",
   "execution_count": 1,
   "metadata": {},
   "outputs": [
    {
     "name": "stdout",
     "output_type": "stream",
     "text": [
      "Hello Richard!\n"
     ]
    }
   ],
   "source": [
    "name = 'Richard'\n",
    "\n",
    "if name == 'Tom':\n",
    "    print('Hello Tom!')\n",
    "elif name == 'Sam':\n",
    "    print('Hello Sam!')\n",
    "elif name == 'Richard':\n",
    "    print('Hello Richard!')\n",
    "else:\n",
    "    print('What is your name?')"
   ]
  },
  {
   "cell_type": "markdown",
   "metadata": {},
   "source": [
    "# For loop"
   ]
  },
  {
   "cell_type": "markdown",
   "metadata": {},
   "source": [
    "### Basic"
   ]
  },
  {
   "cell_type": "code",
   "execution_count": 2,
   "metadata": {},
   "outputs": [
    {
     "name": "stdout",
     "output_type": "stream",
     "text": [
      "0\n",
      "1\n",
      "2\n",
      "3\n",
      "4\n",
      "5\n",
      "6\n",
      "7\n",
      "8\n",
      "9\n",
      "10\n"
     ]
    }
   ],
   "source": [
    "numlist = [0,1,2,3,4,5,6,7,8,9,10]\n",
    "\n",
    "for num in numlist:\n",
    "    print(num)"
   ]
  },
  {
   "cell_type": "code",
   "execution_count": 6,
   "metadata": {},
   "outputs": [
    {
     "name": "stdout",
     "output_type": "stream",
     "text": [
      "Even : 0\n",
      "Odd : 1\n",
      "Even : 2\n",
      "Odd : 3\n",
      "Even : 4\n",
      "Odd : 5\n",
      "Even : 6\n",
      "Odd : 7\n",
      "Even : 8\n",
      "Odd : 9\n",
      "Even : 10\n"
     ]
    }
   ],
   "source": [
    "# Seperate the odd and even number in the numlist\n",
    "for num in numlist:\n",
    "    if num % 2 == 0:\n",
    "        print(f'Even : {num}')\n",
    "    else:\n",
    "        print(f'Odd : {num}')"
   ]
  },
  {
   "cell_type": "code",
   "execution_count": 9,
   "metadata": {},
   "outputs": [
    {
     "name": "stdout",
     "output_type": "stream",
     "text": [
      "H\n",
      "e\n",
      "l\n",
      "l\n",
      "o\n",
      " \n",
      "W\n",
      "o\n",
      "r\n",
      "l\n",
      "d\n"
     ]
    }
   ],
   "source": [
    "for letter in 'Hello World':\n",
    "    print(letter)"
   ]
  },
  {
   "cell_type": "markdown",
   "metadata": {},
   "source": [
    "### Loop with Tuple"
   ]
  },
  {
   "cell_type": "markdown",
   "metadata": {},
   "source": [
    "#####  Basic"
   ]
  },
  {
   "cell_type": "code",
   "execution_count": 10,
   "metadata": {},
   "outputs": [
    {
     "name": "stdout",
     "output_type": "stream",
     "text": [
      "1\n",
      "1\n",
      "2\n",
      "3\n",
      "4\n",
      "5\n"
     ]
    }
   ],
   "source": [
    "tup = (1,1,2,3,4,5)\n",
    "\n",
    "for item in tup:\n",
    "    print(item)"
   ]
  },
  {
   "cell_type": "markdown",
   "metadata": {},
   "source": [
    "#####  Advanced"
   ]
  },
  {
   "cell_type": "code",
   "execution_count": 11,
   "metadata": {},
   "outputs": [
    {
     "data": {
      "text/plain": [
       "4"
      ]
     },
     "execution_count": 11,
     "metadata": {},
     "output_type": "execute_result"
    }
   ],
   "source": [
    "tuplist = [(1,2), (3,4), (5,6), (7,8)]\n",
    "len(tuplist)"
   ]
  },
  {
   "cell_type": "code",
   "execution_count": 12,
   "metadata": {},
   "outputs": [
    {
     "name": "stdout",
     "output_type": "stream",
     "text": [
      "The first item in every tuple is : 1\n",
      "The second item in every tuple is : 2\n",
      "The first item in every tuple is : 3\n",
      "The second item in every tuple is : 4\n",
      "The first item in every tuple is : 5\n",
      "The second item in every tuple is : 6\n",
      "The first item in every tuple is : 7\n",
      "The second item in every tuple is : 8\n"
     ]
    }
   ],
   "source": [
    "for (a,b) in tuplist:\n",
    "    print(f'The first item in every tuple is : {a}')\n",
    "    print(f'The second item in every tuple is : {b}')"
   ]
  },
  {
   "cell_type": "markdown",
   "metadata": {},
   "source": [
    "\n"
   ]
  },
  {
   "cell_type": "code",
   "execution_count": 13,
   "metadata": {},
   "outputs": [
    {
     "name": "stdout",
     "output_type": "stream",
     "text": [
      "2\n",
      "5\n",
      "8\n"
     ]
    }
   ],
   "source": [
    "tuplist2 = [(1,2,3), (4,5,6), (7,8,9)]\n",
    "for a,b,c in tuplist2:\n",
    "    print(b)"
   ]
  },
  {
   "cell_type": "markdown",
   "metadata": {},
   "source": [
    "###  Loop with Dictionary"
   ]
  },
  {
   "cell_type": "code",
   "execution_count": 16,
   "metadata": {},
   "outputs": [],
   "source": [
    "d = {'k1':1, 'k2':2, 'k3':3}"
   ]
  },
  {
   "cell_type": "code",
   "execution_count": 25,
   "metadata": {},
   "outputs": [
    {
     "name": "stdout",
     "output_type": "stream",
     "text": [
      "k1\n",
      "k2\n",
      "k3\n",
      "k1\n",
      "k2\n",
      "k3\n"
     ]
    }
   ],
   "source": [
    "# Shows the keys only\n",
    "\n",
    "# Method 1:\n",
    "for num in d:\n",
    "    print(num)\n",
    "    \n",
    "# Method 2:\n",
    "for num in d.keys():\n",
    "    print(num)"
   ]
  },
  {
   "cell_type": "code",
   "execution_count": 20,
   "metadata": {},
   "outputs": [
    {
     "name": "stdout",
     "output_type": "stream",
     "text": [
      "('k1', 1)\n",
      "('k2', 2)\n",
      "('k3', 3)\n"
     ]
    }
   ],
   "source": [
    "# Shows both keys and values\n",
    "for num in d.items():\n",
    "    print(num)"
   ]
  },
  {
   "cell_type": "code",
   "execution_count": 26,
   "metadata": {},
   "outputs": [
    {
     "name": "stdout",
     "output_type": "stream",
     "text": [
      "1\n",
      "2\n",
      "3\n",
      "1\n",
      "2\n",
      "3\n"
     ]
    }
   ],
   "source": [
    "# Shows only values\n",
    "\n",
    "# Method 1:\n",
    "for num in d.values():\n",
    "    print(num)\n",
    "    \n",
    "# Method 2:\n",
    "for key,value in d.items():\n",
    "    print(value)"
   ]
  },
  {
   "cell_type": "markdown",
   "metadata": {},
   "source": [
    "# Break, Continue, Pass\n",
    "    break: Breaks out of the current closest enclosing loop.\n",
    "    continue: Goes to the top of the closest enclosing loop.\n",
    "    pass: Does nothing at all."
   ]
  },
  {
   "cell_type": "code",
   "execution_count": 29,
   "metadata": {},
   "outputs": [
    {
     "name": "stdout",
     "output_type": "stream",
     "text": [
      "S\n",
      "a\n",
      "m\n",
      "m\n",
      "y\n",
      "\n",
      "\n",
      "S\n",
      "m\n",
      "m\n",
      "y\n",
      "\n",
      "\n",
      "S\n"
     ]
    }
   ],
   "source": [
    "mystr = 'Sammy'\n",
    "\n",
    "# pass doesn't do anything\n",
    "for letter in mystr:\n",
    "    if letter == 'a':\n",
    "        pass\n",
    "    print(letter)\n",
    "    \n",
    "print('\\n')\n",
    "\n",
    "# continue goes back to the top of the loop\n",
    "for letter in mystr:\n",
    "    if letter == 'a':\n",
    "        continue\n",
    "    print(letter)\n",
    "    \n",
    "print('\\n')\n",
    "    \n",
    "# break gets out of the loop\n",
    "for letter in mystr:\n",
    "    if letter == 'a':\n",
    "        break\n",
    "    print(letter)"
   ]
  }
 ],
 "metadata": {
  "kernelspec": {
   "display_name": "Python 3",
   "language": "python",
   "name": "python3"
  },
  "language_info": {
   "codemirror_mode": {
    "name": "ipython",
    "version": 3
   },
   "file_extension": ".py",
   "mimetype": "text/x-python",
   "name": "python",
   "nbconvert_exporter": "python",
   "pygments_lexer": "ipython3",
   "version": "3.6.4"
  }
 },
 "nbformat": 4,
 "nbformat_minor": 2
}
