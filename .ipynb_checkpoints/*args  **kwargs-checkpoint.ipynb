{
 "cells": [
  {
   "cell_type": "markdown",
   "metadata": {},
   "source": [
    "# *agrs 的功用 ( arguments )\n",
    "時常會有不確定有幾個input的時候\n",
    "\n",
    "*args 就是用在這個時候\n",
    "\n",
    "*args 回傳 tuple"
   ]
  },
  {
   "cell_type": "code",
   "execution_count": 28,
   "metadata": {},
   "outputs": [],
   "source": [
    "def myfunc(*args):\n",
    "    print(args)\n",
    "    for item in args:\n",
    "        print(item)"
   ]
  },
  {
   "cell_type": "code",
   "execution_count": 29,
   "metadata": {},
   "outputs": [
    {
     "name": "stdout",
     "output_type": "stream",
     "text": [
      "(40, 'Hi', 80, 95, 1000)\n",
      "40\n",
      "Hi\n",
      "80\n",
      "95\n",
      "1000\n"
     ]
    }
   ],
   "source": [
    "myfunc(40, 'Hi', 80, 95, 1000)"
   ]
  },
  {
   "cell_type": "markdown",
   "metadata": {},
   "source": [
    "# **kwargs 的功用 ( keyword arguments )\n",
    "**kwargs 回傳 dictionary"
   ]
  },
  {
   "cell_type": "code",
   "execution_count": 26,
   "metadata": {},
   "outputs": [],
   "source": [
    "def myfunc1(**kwargs):\n",
    "    print(kwargs)\n",
    "    if 'fruit' in kwargs:\n",
    "        print('My favorite fruit is {}'.format(kwargs['fruit']))\n",
    "    if 'desert' in kwargs:\n",
    "        print('My favorite desert is {}'.format(kwargs['desert']))\n",
    "    else:\n",
    "        print('I did not find my favorite food')"
   ]
  },
  {
   "cell_type": "code",
   "execution_count": 27,
   "metadata": {},
   "outputs": [
    {
     "name": "stdout",
     "output_type": "stream",
     "text": [
      "{'fruit': 'apple', 'desert': 'cake'}\n",
      "My favorite fruit is apple\n",
      "My favorite desert is cake\n"
     ]
    }
   ],
   "source": [
    "myfunc1(fruit='apple', desert = 'cake')"
   ]
  },
  {
   "cell_type": "markdown",
   "metadata": {},
   "source": [
    "# *args 和 **kwargs 一起使用"
   ]
  },
  {
   "cell_type": "code",
   "execution_count": 30,
   "metadata": {},
   "outputs": [],
   "source": [
    "def myfunc2(*args, **kwargs):\n",
    "    print('I would like {} {}'.format(args[0], kwargs['food']))"
   ]
  },
  {
   "cell_type": "code",
   "execution_count": 32,
   "metadata": {},
   "outputs": [
    {
     "name": "stdout",
     "output_type": "stream",
     "text": [
      "I would like 10 eggs\n"
     ]
    }
   ],
   "source": [
    "myfunc2(10, 20, 30, food='eggs', fruit='apples')"
   ]
  }
 ],
 "metadata": {
  "kernelspec": {
   "display_name": "Python 3",
   "language": "python",
   "name": "python3"
  },
  "language_info": {
   "codemirror_mode": {
    "name": "ipython",
    "version": 3
   },
   "file_extension": ".py",
   "mimetype": "text/x-python",
   "name": "python",
   "nbconvert_exporter": "python",
   "pygments_lexer": "ipython3",
   "version": "3.6.4"
  }
 },
 "nbformat": 4,
 "nbformat_minor": 2
}
